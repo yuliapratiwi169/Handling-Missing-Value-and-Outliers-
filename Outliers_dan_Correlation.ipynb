{
  "nbformat": 4,
  "nbformat_minor": 0,
  "metadata": {
    "colab": {
      "provenance": [],
      "authorship_tag": "ABX9TyMTdTRU8VVwwfDwzyxEPWY6",
      "include_colab_link": true
    },
    "kernelspec": {
      "name": "python3",
      "display_name": "Python 3"
    },
    "language_info": {
      "name": "python"
    }
  },
  "cells": [
    {
      "cell_type": "markdown",
      "metadata": {
        "id": "view-in-github",
        "colab_type": "text"
      },
      "source": [
        "<a href=\"https://colab.research.google.com/github/yuliapratiwi169/Handling-Missing-Value-and-Outliers-/blob/main/Outliers_dan_Correlation.ipynb\" target=\"_parent\"><img src=\"https://colab.research.google.com/assets/colab-badge.svg\" alt=\"Open In Colab\"/></a>"
      ]
    },
    {
      "cell_type": "markdown",
      "source": [
        "\n",
        "## Anggota Kelompok :\n",
        "\n",
        "## Yulia Pratiwi (G1A021029)\n",
        "## Zabrila Amrina Zadia putri (G1A021053)"
      ],
      "metadata": {
        "id": "Rtrk_3J7GxBg"
      }
    },
    {
      "cell_type": "code",
      "execution_count": 4,
      "metadata": {
        "id": "rnaEBAYv9frT"
      },
      "outputs": [],
      "source": [
        "#IMPORT LIBRARY YANG DIBUTUHKAN\n",
        "\n",
        "import pandas as pd\n",
        "import seaborn as sns\n",
        "import pandas as pan\n",
        "import matplotlib.pyplot as plt\n",
        "import numpy as np\n",
        "import numpy as num\n",
        "import statistics"
      ]
    },
    {
      "cell_type": "code",
      "source": [
        "#load dataset menggunakan URL\n",
        "df = pan.read_csv(\"https://raw.githubusercontent.com/yuliapratiwi169/Handling-Missing-Value-and-Outliers-/main/shopping_data_missingvalue.csv\")"
      ],
      "metadata": {
        "id": "zbkyqh5q9pRU"
      },
      "execution_count": 8,
      "outputs": []
    },
    {
      "cell_type": "code",
      "source": [
        "#Menampilkan 5 record teratas dari dataset yang telah di load, menggunakan head()\n",
        "## Data yang digunakan adalah data belanja Konsumen dimana terdapat jenis kelamin, umur penghasilan dan pengeluaran\n",
        "df.head()"
      ],
      "metadata": {
        "colab": {
          "base_uri": "https://localhost:8080/",
          "height": 206
        },
        "id": "B2sqmmw3-VLn",
        "outputId": "b9e88ec8-8437-42b9-944e-5d16759d45eb"
      },
      "execution_count": 9,
      "outputs": [
        {
          "output_type": "execute_result",
          "data": {
            "text/plain": [
              "   CustomerID   Genre   Age  Income  SpendingScore\n",
              "0           1    Male  19.0      15             39\n",
              "1           2    Male   NaN      15             81\n",
              "2           3  Female  20.0      16              6\n",
              "3           4  Female  23.0      16             77\n",
              "4           5  Female  31.0      17             33"
            ],
            "text/html": [
              "\n",
              "  <div id=\"df-f26e64f2-17fc-40d7-b200-b44bb668e3b8\">\n",
              "    <div class=\"colab-df-container\">\n",
              "      <div>\n",
              "<style scoped>\n",
              "    .dataframe tbody tr th:only-of-type {\n",
              "        vertical-align: middle;\n",
              "    }\n",
              "\n",
              "    .dataframe tbody tr th {\n",
              "        vertical-align: top;\n",
              "    }\n",
              "\n",
              "    .dataframe thead th {\n",
              "        text-align: right;\n",
              "    }\n",
              "</style>\n",
              "<table border=\"1\" class=\"dataframe\">\n",
              "  <thead>\n",
              "    <tr style=\"text-align: right;\">\n",
              "      <th></th>\n",
              "      <th>CustomerID</th>\n",
              "      <th>Genre</th>\n",
              "      <th>Age</th>\n",
              "      <th>Income</th>\n",
              "      <th>SpendingScore</th>\n",
              "    </tr>\n",
              "  </thead>\n",
              "  <tbody>\n",
              "    <tr>\n",
              "      <th>0</th>\n",
              "      <td>1</td>\n",
              "      <td>Male</td>\n",
              "      <td>19.0</td>\n",
              "      <td>15</td>\n",
              "      <td>39</td>\n",
              "    </tr>\n",
              "    <tr>\n",
              "      <th>1</th>\n",
              "      <td>2</td>\n",
              "      <td>Male</td>\n",
              "      <td>NaN</td>\n",
              "      <td>15</td>\n",
              "      <td>81</td>\n",
              "    </tr>\n",
              "    <tr>\n",
              "      <th>2</th>\n",
              "      <td>3</td>\n",
              "      <td>Female</td>\n",
              "      <td>20.0</td>\n",
              "      <td>16</td>\n",
              "      <td>6</td>\n",
              "    </tr>\n",
              "    <tr>\n",
              "      <th>3</th>\n",
              "      <td>4</td>\n",
              "      <td>Female</td>\n",
              "      <td>23.0</td>\n",
              "      <td>16</td>\n",
              "      <td>77</td>\n",
              "    </tr>\n",
              "    <tr>\n",
              "      <th>4</th>\n",
              "      <td>5</td>\n",
              "      <td>Female</td>\n",
              "      <td>31.0</td>\n",
              "      <td>17</td>\n",
              "      <td>33</td>\n",
              "    </tr>\n",
              "  </tbody>\n",
              "</table>\n",
              "</div>\n",
              "      <button class=\"colab-df-convert\" onclick=\"convertToInteractive('df-f26e64f2-17fc-40d7-b200-b44bb668e3b8')\"\n",
              "              title=\"Convert this dataframe to an interactive table.\"\n",
              "              style=\"display:none;\">\n",
              "        \n",
              "  <svg xmlns=\"http://www.w3.org/2000/svg\" height=\"24px\"viewBox=\"0 0 24 24\"\n",
              "       width=\"24px\">\n",
              "    <path d=\"M0 0h24v24H0V0z\" fill=\"none\"/>\n",
              "    <path d=\"M18.56 5.44l.94 2.06.94-2.06 2.06-.94-2.06-.94-.94-2.06-.94 2.06-2.06.94zm-11 1L8.5 8.5l.94-2.06 2.06-.94-2.06-.94L8.5 2.5l-.94 2.06-2.06.94zm10 10l.94 2.06.94-2.06 2.06-.94-2.06-.94-.94-2.06-.94 2.06-2.06.94z\"/><path d=\"M17.41 7.96l-1.37-1.37c-.4-.4-.92-.59-1.43-.59-.52 0-1.04.2-1.43.59L10.3 9.45l-7.72 7.72c-.78.78-.78 2.05 0 2.83L4 21.41c.39.39.9.59 1.41.59.51 0 1.02-.2 1.41-.59l7.78-7.78 2.81-2.81c.8-.78.8-2.07 0-2.86zM5.41 20L4 18.59l7.72-7.72 1.47 1.35L5.41 20z\"/>\n",
              "  </svg>\n",
              "      </button>\n",
              "      \n",
              "  <style>\n",
              "    .colab-df-container {\n",
              "      display:flex;\n",
              "      flex-wrap:wrap;\n",
              "      gap: 12px;\n",
              "    }\n",
              "\n",
              "    .colab-df-convert {\n",
              "      background-color: #E8F0FE;\n",
              "      border: none;\n",
              "      border-radius: 50%;\n",
              "      cursor: pointer;\n",
              "      display: none;\n",
              "      fill: #1967D2;\n",
              "      height: 32px;\n",
              "      padding: 0 0 0 0;\n",
              "      width: 32px;\n",
              "    }\n",
              "\n",
              "    .colab-df-convert:hover {\n",
              "      background-color: #E2EBFA;\n",
              "      box-shadow: 0px 1px 2px rgba(60, 64, 67, 0.3), 0px 1px 3px 1px rgba(60, 64, 67, 0.15);\n",
              "      fill: #174EA6;\n",
              "    }\n",
              "\n",
              "    [theme=dark] .colab-df-convert {\n",
              "      background-color: #3B4455;\n",
              "      fill: #D2E3FC;\n",
              "    }\n",
              "\n",
              "    [theme=dark] .colab-df-convert:hover {\n",
              "      background-color: #434B5C;\n",
              "      box-shadow: 0px 1px 3px 1px rgba(0, 0, 0, 0.15);\n",
              "      filter: drop-shadow(0px 1px 2px rgba(0, 0, 0, 0.3));\n",
              "      fill: #FFFFFF;\n",
              "    }\n",
              "  </style>\n",
              "\n",
              "      <script>\n",
              "        const buttonEl =\n",
              "          document.querySelector('#df-f26e64f2-17fc-40d7-b200-b44bb668e3b8 button.colab-df-convert');\n",
              "        buttonEl.style.display =\n",
              "          google.colab.kernel.accessAllowed ? 'block' : 'none';\n",
              "\n",
              "        async function convertToInteractive(key) {\n",
              "          const element = document.querySelector('#df-f26e64f2-17fc-40d7-b200-b44bb668e3b8');\n",
              "          const dataTable =\n",
              "            await google.colab.kernel.invokeFunction('convertToInteractive',\n",
              "                                                     [key], {});\n",
              "          if (!dataTable) return;\n",
              "\n",
              "          const docLinkHtml = 'Like what you see? Visit the ' +\n",
              "            '<a target=\"_blank\" href=https://colab.research.google.com/notebooks/data_table.ipynb>data table notebook</a>'\n",
              "            + ' to learn more about interactive tables.';\n",
              "          element.innerHTML = '';\n",
              "          dataTable['output_type'] = 'display_data';\n",
              "          await google.colab.output.renderOutput(dataTable, element);\n",
              "          const docLink = document.createElement('div');\n",
              "          docLink.innerHTML = docLinkHtml;\n",
              "          element.appendChild(docLink);\n",
              "        }\n",
              "      </script>\n",
              "    </div>\n",
              "  </div>\n",
              "  "
            ]
          },
          "metadata": {},
          "execution_count": 9
        }
      ]
    },
    {
      "cell_type": "code",
      "source": [
        "#Panjang Dataset\n",
        "\n",
        "df.shape"
      ],
      "metadata": {
        "colab": {
          "base_uri": "https://localhost:8080/"
        },
        "id": "Gb-qt22e-lPH",
        "outputId": "d61bda1c-507d-4605-c453-dcb9f1b5ac0c"
      },
      "execution_count": 10,
      "outputs": [
        {
          "output_type": "execute_result",
          "data": {
            "text/plain": [
              "(200, 5)"
            ]
          },
          "metadata": {},
          "execution_count": 10
        }
      ]
    },
    {
      "cell_type": "code",
      "source": [
        "#Menampilkan informasi column, datatype dan informasi struktur lainnya pada dataset\n",
        "\n",
        "df.info()"
      ],
      "metadata": {
        "colab": {
          "base_uri": "https://localhost:8080/"
        },
        "id": "pFXXsAVA_ALB",
        "outputId": "769b8a6c-7f5f-47c7-8ac1-d20a05eb86a0"
      },
      "execution_count": 31,
      "outputs": [
        {
          "output_type": "stream",
          "name": "stdout",
          "text": [
            "<class 'pandas.core.frame.DataFrame'>\n",
            "RangeIndex: 200 entries, 0 to 199\n",
            "Data columns (total 5 columns):\n",
            " #   Column         Non-Null Count  Dtype  \n",
            "---  ------         --------------  -----  \n",
            " 0   CustomerID     200 non-null    int64  \n",
            " 1   Genre          200 non-null    object \n",
            " 2   Age            200 non-null    float64\n",
            " 3   Income         200 non-null    int64  \n",
            " 4   SpendingScore  200 non-null    int64  \n",
            "dtypes: float64(1), int64(3), object(1)\n",
            "memory usage: 7.9+ KB\n"
          ]
        }
      ]
    },
    {
      "cell_type": "code",
      "source": [
        "#descriptive statistics dataset\n",
        "\n",
        "df.describe()"
      ],
      "metadata": {
        "colab": {
          "base_uri": "https://localhost:8080/",
          "height": 300
        },
        "id": "2i7zbDN1_Io5",
        "outputId": "3464c0c1-bd75-4d25-abea-d837dfee759c"
      },
      "execution_count": 12,
      "outputs": [
        {
          "output_type": "execute_result",
          "data": {
            "text/plain": [
              "       CustomerID         Age      Income  SpendingScore\n",
              "count  200.000000  192.000000  200.000000     200.000000\n",
              "mean   100.500000   49.000000   60.560000      50.375000\n",
              "std     57.879185   50.037264   26.264721      25.626705\n",
              "min      1.000000   18.000000   15.000000       1.000000\n",
              "25%     50.750000   29.000000   41.500000      34.750000\n",
              "50%    100.500000   37.500000   61.500000      50.000000\n",
              "75%    150.250000   50.000000   78.000000      73.000000\n",
              "max    200.000000  363.000000  137.000000      99.000000"
            ],
            "text/html": [
              "\n",
              "  <div id=\"df-faddb4d5-cf0d-465f-b240-f40df0fc06dd\">\n",
              "    <div class=\"colab-df-container\">\n",
              "      <div>\n",
              "<style scoped>\n",
              "    .dataframe tbody tr th:only-of-type {\n",
              "        vertical-align: middle;\n",
              "    }\n",
              "\n",
              "    .dataframe tbody tr th {\n",
              "        vertical-align: top;\n",
              "    }\n",
              "\n",
              "    .dataframe thead th {\n",
              "        text-align: right;\n",
              "    }\n",
              "</style>\n",
              "<table border=\"1\" class=\"dataframe\">\n",
              "  <thead>\n",
              "    <tr style=\"text-align: right;\">\n",
              "      <th></th>\n",
              "      <th>CustomerID</th>\n",
              "      <th>Age</th>\n",
              "      <th>Income</th>\n",
              "      <th>SpendingScore</th>\n",
              "    </tr>\n",
              "  </thead>\n",
              "  <tbody>\n",
              "    <tr>\n",
              "      <th>count</th>\n",
              "      <td>200.000000</td>\n",
              "      <td>192.000000</td>\n",
              "      <td>200.000000</td>\n",
              "      <td>200.000000</td>\n",
              "    </tr>\n",
              "    <tr>\n",
              "      <th>mean</th>\n",
              "      <td>100.500000</td>\n",
              "      <td>49.000000</td>\n",
              "      <td>60.560000</td>\n",
              "      <td>50.375000</td>\n",
              "    </tr>\n",
              "    <tr>\n",
              "      <th>std</th>\n",
              "      <td>57.879185</td>\n",
              "      <td>50.037264</td>\n",
              "      <td>26.264721</td>\n",
              "      <td>25.626705</td>\n",
              "    </tr>\n",
              "    <tr>\n",
              "      <th>min</th>\n",
              "      <td>1.000000</td>\n",
              "      <td>18.000000</td>\n",
              "      <td>15.000000</td>\n",
              "      <td>1.000000</td>\n",
              "    </tr>\n",
              "    <tr>\n",
              "      <th>25%</th>\n",
              "      <td>50.750000</td>\n",
              "      <td>29.000000</td>\n",
              "      <td>41.500000</td>\n",
              "      <td>34.750000</td>\n",
              "    </tr>\n",
              "    <tr>\n",
              "      <th>50%</th>\n",
              "      <td>100.500000</td>\n",
              "      <td>37.500000</td>\n",
              "      <td>61.500000</td>\n",
              "      <td>50.000000</td>\n",
              "    </tr>\n",
              "    <tr>\n",
              "      <th>75%</th>\n",
              "      <td>150.250000</td>\n",
              "      <td>50.000000</td>\n",
              "      <td>78.000000</td>\n",
              "      <td>73.000000</td>\n",
              "    </tr>\n",
              "    <tr>\n",
              "      <th>max</th>\n",
              "      <td>200.000000</td>\n",
              "      <td>363.000000</td>\n",
              "      <td>137.000000</td>\n",
              "      <td>99.000000</td>\n",
              "    </tr>\n",
              "  </tbody>\n",
              "</table>\n",
              "</div>\n",
              "      <button class=\"colab-df-convert\" onclick=\"convertToInteractive('df-faddb4d5-cf0d-465f-b240-f40df0fc06dd')\"\n",
              "              title=\"Convert this dataframe to an interactive table.\"\n",
              "              style=\"display:none;\">\n",
              "        \n",
              "  <svg xmlns=\"http://www.w3.org/2000/svg\" height=\"24px\"viewBox=\"0 0 24 24\"\n",
              "       width=\"24px\">\n",
              "    <path d=\"M0 0h24v24H0V0z\" fill=\"none\"/>\n",
              "    <path d=\"M18.56 5.44l.94 2.06.94-2.06 2.06-.94-2.06-.94-.94-2.06-.94 2.06-2.06.94zm-11 1L8.5 8.5l.94-2.06 2.06-.94-2.06-.94L8.5 2.5l-.94 2.06-2.06.94zm10 10l.94 2.06.94-2.06 2.06-.94-2.06-.94-.94-2.06-.94 2.06-2.06.94z\"/><path d=\"M17.41 7.96l-1.37-1.37c-.4-.4-.92-.59-1.43-.59-.52 0-1.04.2-1.43.59L10.3 9.45l-7.72 7.72c-.78.78-.78 2.05 0 2.83L4 21.41c.39.39.9.59 1.41.59.51 0 1.02-.2 1.41-.59l7.78-7.78 2.81-2.81c.8-.78.8-2.07 0-2.86zM5.41 20L4 18.59l7.72-7.72 1.47 1.35L5.41 20z\"/>\n",
              "  </svg>\n",
              "      </button>\n",
              "      \n",
              "  <style>\n",
              "    .colab-df-container {\n",
              "      display:flex;\n",
              "      flex-wrap:wrap;\n",
              "      gap: 12px;\n",
              "    }\n",
              "\n",
              "    .colab-df-convert {\n",
              "      background-color: #E8F0FE;\n",
              "      border: none;\n",
              "      border-radius: 50%;\n",
              "      cursor: pointer;\n",
              "      display: none;\n",
              "      fill: #1967D2;\n",
              "      height: 32px;\n",
              "      padding: 0 0 0 0;\n",
              "      width: 32px;\n",
              "    }\n",
              "\n",
              "    .colab-df-convert:hover {\n",
              "      background-color: #E2EBFA;\n",
              "      box-shadow: 0px 1px 2px rgba(60, 64, 67, 0.3), 0px 1px 3px 1px rgba(60, 64, 67, 0.15);\n",
              "      fill: #174EA6;\n",
              "    }\n",
              "\n",
              "    [theme=dark] .colab-df-convert {\n",
              "      background-color: #3B4455;\n",
              "      fill: #D2E3FC;\n",
              "    }\n",
              "\n",
              "    [theme=dark] .colab-df-convert:hover {\n",
              "      background-color: #434B5C;\n",
              "      box-shadow: 0px 1px 3px 1px rgba(0, 0, 0, 0.15);\n",
              "      filter: drop-shadow(0px 1px 2px rgba(0, 0, 0, 0.3));\n",
              "      fill: #FFFFFF;\n",
              "    }\n",
              "  </style>\n",
              "\n",
              "      <script>\n",
              "        const buttonEl =\n",
              "          document.querySelector('#df-faddb4d5-cf0d-465f-b240-f40df0fc06dd button.colab-df-convert');\n",
              "        buttonEl.style.display =\n",
              "          google.colab.kernel.accessAllowed ? 'block' : 'none';\n",
              "\n",
              "        async function convertToInteractive(key) {\n",
              "          const element = document.querySelector('#df-faddb4d5-cf0d-465f-b240-f40df0fc06dd');\n",
              "          const dataTable =\n",
              "            await google.colab.kernel.invokeFunction('convertToInteractive',\n",
              "                                                     [key], {});\n",
              "          if (!dataTable) return;\n",
              "\n",
              "          const docLinkHtml = 'Like what you see? Visit the ' +\n",
              "            '<a target=\"_blank\" href=https://colab.research.google.com/notebooks/data_table.ipynb>data table notebook</a>'\n",
              "            + ' to learn more about interactive tables.';\n",
              "          element.innerHTML = '';\n",
              "          dataTable['output_type'] = 'display_data';\n",
              "          await google.colab.output.renderOutput(dataTable, element);\n",
              "          const docLink = document.createElement('div');\n",
              "          docLink.innerHTML = docLinkHtml;\n",
              "          element.appendChild(docLink);\n",
              "        }\n",
              "      </script>\n",
              "    </div>\n",
              "  </div>\n",
              "  "
            ]
          },
          "metadata": {},
          "execution_count": 12
        }
      ]
    },
    {
      "cell_type": "code",
      "source": [
        "# mengganti missing value menggunakan Mode\n",
        "\n",
        "df['Age'] = df['Age'].fillna(df['Age'].mode()[0])\n",
        "df.head()"
      ],
      "metadata": {
        "colab": {
          "base_uri": "https://localhost:8080/",
          "height": 206
        },
        "id": "OSdLssRX_q_L",
        "outputId": "89454c12-5316-4230-ece9-54c7a3384ee0"
      },
      "execution_count": 14,
      "outputs": [
        {
          "output_type": "execute_result",
          "data": {
            "text/plain": [
              "   CustomerID   Genre   Age  Income  SpendingScore\n",
              "0           1    Male  19.0      15             39\n",
              "1           2    Male  32.0      15             81\n",
              "2           3  Female  20.0      16              6\n",
              "3           4  Female  23.0      16             77\n",
              "4           5  Female  31.0      17             33"
            ],
            "text/html": [
              "\n",
              "  <div id=\"df-092a2a48-935c-4edc-8e49-f9c18f2c0059\">\n",
              "    <div class=\"colab-df-container\">\n",
              "      <div>\n",
              "<style scoped>\n",
              "    .dataframe tbody tr th:only-of-type {\n",
              "        vertical-align: middle;\n",
              "    }\n",
              "\n",
              "    .dataframe tbody tr th {\n",
              "        vertical-align: top;\n",
              "    }\n",
              "\n",
              "    .dataframe thead th {\n",
              "        text-align: right;\n",
              "    }\n",
              "</style>\n",
              "<table border=\"1\" class=\"dataframe\">\n",
              "  <thead>\n",
              "    <tr style=\"text-align: right;\">\n",
              "      <th></th>\n",
              "      <th>CustomerID</th>\n",
              "      <th>Genre</th>\n",
              "      <th>Age</th>\n",
              "      <th>Income</th>\n",
              "      <th>SpendingScore</th>\n",
              "    </tr>\n",
              "  </thead>\n",
              "  <tbody>\n",
              "    <tr>\n",
              "      <th>0</th>\n",
              "      <td>1</td>\n",
              "      <td>Male</td>\n",
              "      <td>19.0</td>\n",
              "      <td>15</td>\n",
              "      <td>39</td>\n",
              "    </tr>\n",
              "    <tr>\n",
              "      <th>1</th>\n",
              "      <td>2</td>\n",
              "      <td>Male</td>\n",
              "      <td>32.0</td>\n",
              "      <td>15</td>\n",
              "      <td>81</td>\n",
              "    </tr>\n",
              "    <tr>\n",
              "      <th>2</th>\n",
              "      <td>3</td>\n",
              "      <td>Female</td>\n",
              "      <td>20.0</td>\n",
              "      <td>16</td>\n",
              "      <td>6</td>\n",
              "    </tr>\n",
              "    <tr>\n",
              "      <th>3</th>\n",
              "      <td>4</td>\n",
              "      <td>Female</td>\n",
              "      <td>23.0</td>\n",
              "      <td>16</td>\n",
              "      <td>77</td>\n",
              "    </tr>\n",
              "    <tr>\n",
              "      <th>4</th>\n",
              "      <td>5</td>\n",
              "      <td>Female</td>\n",
              "      <td>31.0</td>\n",
              "      <td>17</td>\n",
              "      <td>33</td>\n",
              "    </tr>\n",
              "  </tbody>\n",
              "</table>\n",
              "</div>\n",
              "      <button class=\"colab-df-convert\" onclick=\"convertToInteractive('df-092a2a48-935c-4edc-8e49-f9c18f2c0059')\"\n",
              "              title=\"Convert this dataframe to an interactive table.\"\n",
              "              style=\"display:none;\">\n",
              "        \n",
              "  <svg xmlns=\"http://www.w3.org/2000/svg\" height=\"24px\"viewBox=\"0 0 24 24\"\n",
              "       width=\"24px\">\n",
              "    <path d=\"M0 0h24v24H0V0z\" fill=\"none\"/>\n",
              "    <path d=\"M18.56 5.44l.94 2.06.94-2.06 2.06-.94-2.06-.94-.94-2.06-.94 2.06-2.06.94zm-11 1L8.5 8.5l.94-2.06 2.06-.94-2.06-.94L8.5 2.5l-.94 2.06-2.06.94zm10 10l.94 2.06.94-2.06 2.06-.94-2.06-.94-.94-2.06-.94 2.06-2.06.94z\"/><path d=\"M17.41 7.96l-1.37-1.37c-.4-.4-.92-.59-1.43-.59-.52 0-1.04.2-1.43.59L10.3 9.45l-7.72 7.72c-.78.78-.78 2.05 0 2.83L4 21.41c.39.39.9.59 1.41.59.51 0 1.02-.2 1.41-.59l7.78-7.78 2.81-2.81c.8-.78.8-2.07 0-2.86zM5.41 20L4 18.59l7.72-7.72 1.47 1.35L5.41 20z\"/>\n",
              "  </svg>\n",
              "      </button>\n",
              "      \n",
              "  <style>\n",
              "    .colab-df-container {\n",
              "      display:flex;\n",
              "      flex-wrap:wrap;\n",
              "      gap: 12px;\n",
              "    }\n",
              "\n",
              "    .colab-df-convert {\n",
              "      background-color: #E8F0FE;\n",
              "      border: none;\n",
              "      border-radius: 50%;\n",
              "      cursor: pointer;\n",
              "      display: none;\n",
              "      fill: #1967D2;\n",
              "      height: 32px;\n",
              "      padding: 0 0 0 0;\n",
              "      width: 32px;\n",
              "    }\n",
              "\n",
              "    .colab-df-convert:hover {\n",
              "      background-color: #E2EBFA;\n",
              "      box-shadow: 0px 1px 2px rgba(60, 64, 67, 0.3), 0px 1px 3px 1px rgba(60, 64, 67, 0.15);\n",
              "      fill: #174EA6;\n",
              "    }\n",
              "\n",
              "    [theme=dark] .colab-df-convert {\n",
              "      background-color: #3B4455;\n",
              "      fill: #D2E3FC;\n",
              "    }\n",
              "\n",
              "    [theme=dark] .colab-df-convert:hover {\n",
              "      background-color: #434B5C;\n",
              "      box-shadow: 0px 1px 3px 1px rgba(0, 0, 0, 0.15);\n",
              "      filter: drop-shadow(0px 1px 2px rgba(0, 0, 0, 0.3));\n",
              "      fill: #FFFFFF;\n",
              "    }\n",
              "  </style>\n",
              "\n",
              "      <script>\n",
              "        const buttonEl =\n",
              "          document.querySelector('#df-092a2a48-935c-4edc-8e49-f9c18f2c0059 button.colab-df-convert');\n",
              "        buttonEl.style.display =\n",
              "          google.colab.kernel.accessAllowed ? 'block' : 'none';\n",
              "\n",
              "        async function convertToInteractive(key) {\n",
              "          const element = document.querySelector('#df-092a2a48-935c-4edc-8e49-f9c18f2c0059');\n",
              "          const dataTable =\n",
              "            await google.colab.kernel.invokeFunction('convertToInteractive',\n",
              "                                                     [key], {});\n",
              "          if (!dataTable) return;\n",
              "\n",
              "          const docLinkHtml = 'Like what you see? Visit the ' +\n",
              "            '<a target=\"_blank\" href=https://colab.research.google.com/notebooks/data_table.ipynb>data table notebook</a>'\n",
              "            + ' to learn more about interactive tables.';\n",
              "          element.innerHTML = '';\n",
              "          dataTable['output_type'] = 'display_data';\n",
              "          await google.colab.output.renderOutput(dataTable, element);\n",
              "          const docLink = document.createElement('div');\n",
              "          docLink.innerHTML = docLinkHtml;\n",
              "          element.appendChild(docLink);\n",
              "        }\n",
              "      </script>\n",
              "    </div>\n",
              "  </div>\n",
              "  "
            ]
          },
          "metadata": {},
          "execution_count": 14
        }
      ]
    },
    {
      "cell_type": "code",
      "source": [
        "#Menampilkan outliers dataset pada baris writing score menggunakan boxplot\n",
        "sample= df[\"Age\"]\n",
        "\n",
        "plt.boxplot(sample, vert=False)\n",
        "plt.title(\"Mendeteksi Outlier mMenggunakan Boxplot\")\n",
        "plt.xlabel('Age')\n",
        "plt.show()"
      ],
      "metadata": {
        "colab": {
          "base_uri": "https://localhost:8080/",
          "height": 295
        },
        "id": "GKSTZp-l_PIQ",
        "outputId": "e79b2c80-1190-4304-dfbd-6fc9a9a94c9e"
      },
      "execution_count": 15,
      "outputs": [
        {
          "output_type": "display_data",
          "data": {
            "text/plain": [
              "<Figure size 432x288 with 1 Axes>"
            ],
            "image/png": "[encoded data removed]"
          },
          "metadata": {
            "needs_background": "light"
          }
        }
      ]
    },
    {
      "cell_type": "code",
      "source": [
        "#Mengidentifikasi Outlier menggunakan Scatter plot\n",
        "# Titik titik yang berpencar menjauh adalah Outliers\n",
        "\n",
        "df.plot(x='Age',y='Income',kind = 'scatter') \n",
        "plt.show()"
      ],
      "metadata": {
        "colab": {
          "base_uri": "https://localhost:8080/",
          "height": 279
        },
        "id": "c-AHXZqSEocK",
        "outputId": "646bd962-7518-4364-f1f5-ac13230631fa"
      },
      "execution_count": 28,
      "outputs": [
        {
          "output_type": "display_data",
          "data": {
            "text/plain": [
              "<Figure size 432x288 with 1 Axes>"
            ],
            "image/png": "[encoded data removed]"
          },
          "metadata": {
            "needs_background": "light"
          }
        }
      ]
    },
    {
      "cell_type": "code",
      "source": [
        "outliers = []\n",
        "def detect_outliers_zscore(data):\n",
        "    theres = 3\n",
        "    mean = np.mean(data)\n",
        "    std = np.std(data)\n",
        "    # print(mean, std)\n",
        "    for i in data:\n",
        "        z_score = (i-mean)/std\n",
        "        if (np.abs(z_score) > theres):\n",
        "            outliers.append(i)\n",
        "    return outliers# Driver code\n",
        "sample_outliers = detect_outliers_zscore(sample)\n",
        "print(\"Outliers from Z-scores method: \", sample_outliers)"
      ],
      "metadata": {
        "colab": {
          "base_uri": "https://localhost:8080/"
        },
        "id": "DrkFnmAf_9_O",
        "outputId": "7f73eb2f-3f38-4c02-8fa0-799d41c95c6a"
      },
      "execution_count": 16,
      "outputs": [
        {
          "output_type": "stream",
          "name": "stdout",
          "text": [
            "Outliers from Z-scores method:  [236.0, 363.0, 247.0, 319.0, 249.0, 319.0, 225.0, 236.0]\n"
          ]
        }
      ]
    },
    {
      "cell_type": "code",
      "source": [
        "#Mencari nilai kuartil 1, kuartil 3, dan IQR\n",
        "\n",
        "Q1 = df.Age.quantile(0.25)\n",
        "Q3 = df.Age.quantile(0.75)\n",
        "IQR = Q3 - Q1\n",
        "print('Kuartil 1 = ', Q1)\n",
        "print('Kuartil 3 = ', Q3)\n",
        "print('IQR = ', IQR)\n",
        "\n",
        "min_IQR = Q1 - 1.5 * IQR\n",
        "max_IQR = Q3 + 1.5 * IQR\n",
        "\n",
        "print('IQR minimum = ', min_IQR)\n",
        "print('IQR maksimum = ', max_IQR)\n",
        "\n",
        "nilai_min = np.min(df[\"Age\"])\n",
        "nilai_max = np.max(df[\"Age\"])"
      ],
      "metadata": {
        "colab": {
          "base_uri": "https://localhost:8080/"
        },
        "id": "jiiXSUn9AJDj",
        "outputId": "37274604-30ec-4021-e224-c2b5e66cf170"
      },
      "execution_count": 18,
      "outputs": [
        {
          "output_type": "stream",
          "name": "stdout",
          "text": [
            "Kuartil 1 =  30.0\n",
            "Kuartil 3 =  50.0\n",
            "IQR =  20.0\n",
            "IQR minimum =  0.0\n",
            "IQR maksimum =  80.0\n"
          ]
        }
      ]
    },
    {
      "cell_type": "code",
      "source": [
        "#Mencari Outlier menggunakan IQR\n",
        "low_out = []\n",
        "high_out = []\n",
        "\n",
        "for i in df[\"Age\"]:\n",
        "    if (i < min_IQR):\n",
        "        low_out.append(i)\n",
        "    if (i > max_IQR):\n",
        "        high_out.append(i)\n",
        "\n",
        "print('Low outlier : ', low_out)\n",
        "print('High outlier : ', high_out)"
      ],
      "metadata": {
        "colab": {
          "base_uri": "https://localhost:8080/"
        },
        "id": "uh8_e4b8A7q1",
        "outputId": "ba57df22-97cf-40ac-a55d-390e6dcc5d81"
      },
      "execution_count": 20,
      "outputs": [
        {
          "output_type": "stream",
          "name": "stdout",
          "text": [
            "Low outlier :  []\n",
            "High outlier :  [236.0, 363.0, 247.0, 319.0, 249.0, 319.0, 225.0, 236.0]\n"
          ]
        }
      ]
    },
    {
      "cell_type": "code",
      "source": [
        "#menghapus outlier berdasarkan rentang IQR dan menyimpan hasilnya dalam bingkai data 'df_new'\n",
        "# Setelah dihapus panjang dataset yang semula (200,5) menjadi (192,5) berarti sebanyak 8 data dihapus\n",
        "\n",
        "df_new = df[~((df.Age < (Q1 - 1.5 * IQR)) | (df.Age > (Q3 + 1.5 * IQR)))]\n",
        "df_new"
      ],
      "metadata": {
        "colab": {
          "base_uri": "https://localhost:8080/",
          "height": 423
        },
        "id": "jwaZlpwsBX1l",
        "outputId": "dd65f64d-85cb-4e93-cbee-f2afefd4874f"
      },
      "execution_count": 21,
      "outputs": [
        {
          "output_type": "execute_result",
          "data": {
            "text/plain": [
              "     CustomerID   Genre   Age  Income  SpendingScore\n",
              "0             1    Male  19.0      15             39\n",
              "1             2    Male  32.0      15             81\n",
              "2             3  Female  20.0      16              6\n",
              "3             4  Female  23.0      16             77\n",
              "4             5  Female  31.0      17             33\n",
              "..          ...     ...   ...     ...            ...\n",
              "195         196  Female  32.0     120             79\n",
              "196         197  Female  45.0     126             28\n",
              "197         198    Male  32.0     126             74\n",
              "198         199    Male  32.0     137             18\n",
              "199         200    Male  30.0     137             83\n",
              "\n",
              "[192 rows x 5 columns]"
            ],
            "text/html": [
              "\n",
              "  <div id=\"df-5b89d8da-75f0-4032-8ecf-19e2f810dd6a\">\n",
              "    <div class=\"colab-df-container\">\n",
              "      <div>\n",
              "<style scoped>\n",
              "    .dataframe tbody tr th:only-of-type {\n",
              "        vertical-align: middle;\n",
              "    }\n",
              "\n",
              "    .dataframe tbody tr th {\n",
              "        vertical-align: top;\n",
              "    }\n",
              "\n",
              "    .dataframe thead th {\n",
              "        text-align: right;\n",
              "    }\n",
              "</style>\n",
              "<table border=\"1\" class=\"dataframe\">\n",
              "  <thead>\n",
              "    <tr style=\"text-align: right;\">\n",
              "      <th></th>\n",
              "      <th>CustomerID</th>\n",
              "      <th>Genre</th>\n",
              "      <th>Age</th>\n",
              "      <th>Income</th>\n",
              "      <th>SpendingScore</th>\n",
              "    </tr>\n",
              "  </thead>\n",
              "  <tbody>\n",
              "    <tr>\n",
              "      <th>0</th>\n",
              "      <td>1</td>\n",
              "      <td>Male</td>\n",
              "      <td>19.0</td>\n",
              "      <td>15</td>\n",
              "      <td>39</td>\n",
              "    </tr>\n",
              "    <tr>\n",
              "      <th>1</th>\n",
              "      <td>2</td>\n",
              "      <td>Male</td>\n",
              "      <td>32.0</td>\n",
              "      <td>15</td>\n",
              "      <td>81</td>\n",
              "    </tr>\n",
              "    <tr>\n",
              "      <th>2</th>\n",
              "      <td>3</td>\n",
              "      <td>Female</td>\n",
              "      <td>20.0</td>\n",
              "      <td>16</td>\n",
              "      <td>6</td>\n",
              "    </tr>\n",
              "    <tr>\n",
              "      <th>3</th>\n",
              "      <td>4</td>\n",
              "      <td>Female</td>\n",
              "      <td>23.0</td>\n",
              "      <td>16</td>\n",
              "      <td>77</td>\n",
              "    </tr>\n",
              "    <tr>\n",
              "      <th>4</th>\n",
              "      <td>5</td>\n",
              "      <td>Female</td>\n",
              "      <td>31.0</td>\n",
              "      <td>17</td>\n",
              "      <td>33</td>\n",
              "    </tr>\n",
              "    <tr>\n",
              "      <th>...</th>\n",
              "      <td>...</td>\n",
              "      <td>...</td>\n",
              "      <td>...</td>\n",
              "      <td>...</td>\n",
              "      <td>...</td>\n",
              "    </tr>\n",
              "    <tr>\n",
              "      <th>195</th>\n",
              "      <td>196</td>\n",
              "      <td>Female</td>\n",
              "      <td>32.0</td>\n",
              "      <td>120</td>\n",
              "      <td>79</td>\n",
              "    </tr>\n",
              "    <tr>\n",
              "      <th>196</th>\n",
              "      <td>197</td>\n",
              "      <td>Female</td>\n",
              "      <td>45.0</td>\n",
              "      <td>126</td>\n",
              "      <td>28</td>\n",
              "    </tr>\n",
              "    <tr>\n",
              "      <th>197</th>\n",
              "      <td>198</td>\n",
              "      <td>Male</td>\n",
              "      <td>32.0</td>\n",
              "      <td>126</td>\n",
              "      <td>74</td>\n",
              "    </tr>\n",
              "    <tr>\n",
              "      <th>198</th>\n",
              "      <td>199</td>\n",
              "      <td>Male</td>\n",
              "      <td>32.0</td>\n",
              "      <td>137</td>\n",
              "      <td>18</td>\n",
              "    </tr>\n",
              "    <tr>\n",
              "      <th>199</th>\n",
              "      <td>200</td>\n",
              "      <td>Male</td>\n",
              "      <td>30.0</td>\n",
              "      <td>137</td>\n",
              "      <td>83</td>\n",
              "    </tr>\n",
              "  </tbody>\n",
              "</table>\n",
              "<p>192 rows × 5 columns</p>\n",
              "</div>\n",
              "      <button class=\"colab-df-convert\" onclick=\"convertToInteractive('df-5b89d8da-75f0-4032-8ecf-19e2f810dd6a')\"\n",
              "              title=\"Convert this dataframe to an interactive table.\"\n",
              "              style=\"display:none;\">\n",
              "        \n",
              "  <svg xmlns=\"http://www.w3.org/2000/svg\" height=\"24px\"viewBox=\"0 0 24 24\"\n",
              "       width=\"24px\">\n",
              "    <path d=\"M0 0h24v24H0V0z\" fill=\"none\"/>\n",
              "    <path d=\"M18.56 5.44l.94 2.06.94-2.06 2.06-.94-2.06-.94-.94-2.06-.94 2.06-2.06.94zm-11 1L8.5 8.5l.94-2.06 2.06-.94-2.06-.94L8.5 2.5l-.94 2.06-2.06.94zm10 10l.94 2.06.94-2.06 2.06-.94-2.06-.94-.94-2.06-.94 2.06-2.06.94z\"/><path d=\"M17.41 7.96l-1.37-1.37c-.4-.4-.92-.59-1.43-.59-.52 0-1.04.2-1.43.59L10.3 9.45l-7.72 7.72c-.78.78-.78 2.05 0 2.83L4 21.41c.39.39.9.59 1.41.59.51 0 1.02-.2 1.41-.59l7.78-7.78 2.81-2.81c.8-.78.8-2.07 0-2.86zM5.41 20L4 18.59l7.72-7.72 1.47 1.35L5.41 20z\"/>\n",
              "  </svg>\n",
              "      </button>\n",
              "      \n",
              "  <style>\n",
              "    .colab-df-container {\n",
              "      display:flex;\n",
              "      flex-wrap:wrap;\n",
              "      gap: 12px;\n",
              "    }\n",
              "\n",
              "    .colab-df-convert {\n",
              "      background-color: #E8F0FE;\n",
              "      border: none;\n",
              "      border-radius: 50%;\n",
              "      cursor: pointer;\n",
              "      display: none;\n",
              "      fill: #1967D2;\n",
              "      height: 32px;\n",
              "      padding: 0 0 0 0;\n",
              "      width: 32px;\n",
              "    }\n",
              "\n",
              "    .colab-df-convert:hover {\n",
              "      background-color: #E2EBFA;\n",
              "      box-shadow: 0px 1px 2px rgba(60, 64, 67, 0.3), 0px 1px 3px 1px rgba(60, 64, 67, 0.15);\n",
              "      fill: #174EA6;\n",
              "    }\n",
              "\n",
              "    [theme=dark] .colab-df-convert {\n",
              "      background-color: #3B4455;\n",
              "      fill: #D2E3FC;\n",
              "    }\n",
              "\n",
              "    [theme=dark] .colab-df-convert:hover {\n",
              "      background-color: #434B5C;\n",
              "      box-shadow: 0px 1px 3px 1px rgba(0, 0, 0, 0.15);\n",
              "      filter: drop-shadow(0px 1px 2px rgba(0, 0, 0, 0.3));\n",
              "      fill: #FFFFFF;\n",
              "    }\n",
              "  </style>\n",
              "\n",
              "      <script>\n",
              "        const buttonEl =\n",
              "          document.querySelector('#df-5b89d8da-75f0-4032-8ecf-19e2f810dd6a button.colab-df-convert');\n",
              "        buttonEl.style.display =\n",
              "          google.colab.kernel.accessAllowed ? 'block' : 'none';\n",
              "\n",
              "        async function convertToInteractive(key) {\n",
              "          const element = document.querySelector('#df-5b89d8da-75f0-4032-8ecf-19e2f810dd6a');\n",
              "          const dataTable =\n",
              "            await google.colab.kernel.invokeFunction('convertToInteractive',\n",
              "                                                     [key], {});\n",
              "          if (!dataTable) return;\n",
              "\n",
              "          const docLinkHtml = 'Like what you see? Visit the ' +\n",
              "            '<a target=\"_blank\" href=https://colab.research.google.com/notebooks/data_table.ipynb>data table notebook</a>'\n",
              "            + ' to learn more about interactive tables.';\n",
              "          element.innerHTML = '';\n",
              "          dataTable['output_type'] = 'display_data';\n",
              "          await google.colab.output.renderOutput(dataTable, element);\n",
              "          const docLink = document.createElement('div');\n",
              "          docLink.innerHTML = docLinkHtml;\n",
              "          element.appendChild(docLink);\n",
              "        }\n",
              "      </script>\n",
              "    </div>\n",
              "  </div>\n",
              "  "
            ]
          },
          "metadata": {},
          "execution_count": 21
        }
      ]
    },
    {
      "cell_type": "code",
      "source": [
        "# Menentukan flooring and capping pada dataset\n",
        "\n",
        "tenth_percentile = np.percentile(sample, 10)\n",
        "ninetieth_percentile = np.percentile(sample, 90)\n",
        "print(tenth_percentile, ninetieth_percentile)\n",
        "b = np.where(sample<tenth_percentile, tenth_percentile, sample)\n",
        "b = np.where(b>ninetieth_percentile, ninetieth_percentile, b)\n",
        "print(\"New array:\",b)"
      ],
      "metadata": {
        "colab": {
          "base_uri": "https://localhost:8080/"
        },
        "id": "GkFA1QTlCYBe",
        "outputId": "ee34b8f2-82fa-4eef-d855-6c2f00866be3"
      },
      "execution_count": 22,
      "outputs": [
        {
          "output_type": "stream",
          "name": "stdout",
          "text": [
            "22.0 65.1\n",
            "New array: [22.  32.  22.  23.  31.  22.  35.  23.  64.  30.  65.1 32.  58.  24.\n",
            " 37.  32.  35.  22.  52.  35.  35.  25.  32.  31.  54.  29.  45.  35.\n",
            " 40.  32.  60.  22.  53.  22.  49.  22.  42.  30.  65.1 22.  65.  24.\n",
            " 48.  31.  49.  24.  50.  27.  29.  31.  49.  33.  31.  59.  50.  47.\n",
            " 51.  65.1 27.  53.  65.1 22.  65.1 54.  65.1 22.  43.  65.1 22.  32.\n",
            " 65.1 47.  60.  60.  59.  26.  45.  40.  23.  49.  57.  38.  65.1 46.\n",
            " 22.  48.  55.  22.  34.  50.  65.1 22.  48.  40.  32.  24.  65.1 27.\n",
            " 48.  22.  23.  49.  65.1 26.  49.  22.  65.1 54.  65.1 65.1 65.  22.\n",
            " 38.  22.  22.  65.1 63.  65.1 51.  50.  27.  38.  40.  39.  23.  31.\n",
            " 43.  40.  59.  38.  47.  39.  25.  31.  22.  29.  44.  32.  65.1 35.\n",
            " 57.  32.  28.  32.  65.1 28.  48.  32.  34.  34.  43.  39.  44.  38.\n",
            " 47.  27.  37.  30.  34.  30.  56.  29.  22.  31.  50.  36.  42.  33.\n",
            " 36.  32.  40.  28.  36.  36.  52.  30.  58.  27.  59.  35.  37.  32.\n",
            " 32.  29.  41.  30.  54.  28.  41.  65.1 32.  32.  33.  38.  47.  32.\n",
            " 45.  32.  32.  30. ]\n"
          ]
        }
      ]
    },
    {
      "cell_type": "code",
      "source": [
        "# mengganti Nilai Outlier Menggunakan Imputation (median)\n",
        "\n",
        "median = np.median(sample)\n",
        "for i in sample_outliers:\n",
        "    c = np.where(sample==i, 14, sample)\n",
        "print(\"Sample: \", sample)\n",
        "print(\"New array: \",c)"
      ],
      "metadata": {
        "colab": {
          "base_uri": "https://localhost:8080/"
        },
        "id": "uKSMcTOLCsvY",
        "outputId": "219d01c1-37d2-468b-9d27-a6365b206c66"
      },
      "execution_count": 23,
      "outputs": [
        {
          "output_type": "stream",
          "name": "stdout",
          "text": [
            "Sample:  0      19.0\n",
            "1      32.0\n",
            "2      20.0\n",
            "3      23.0\n",
            "4      31.0\n",
            "       ... \n",
            "195    32.0\n",
            "196    45.0\n",
            "197    32.0\n",
            "198    32.0\n",
            "199    30.0\n",
            "Name: Age, Length: 200, dtype: float64\n",
            "New array:  [ 19.  32.  20.  23.  31.  22.  35.  23.  64.  30.  67.  32.  58.  24.\n",
            "  37.  32.  35.  20.  52.  35.  35.  25.  32.  31.  54.  29.  45.  35.\n",
            "  40.  32.  60.  21.  53.  18.  49.  21.  42.  30.  14.  20.  65.  24.\n",
            "  48.  31.  49.  24.  50.  27.  29.  31.  49.  33.  31.  59.  50.  47.\n",
            "  51.  69.  27.  53.  70.  19.  67.  54. 363.  18.  43.  68.  19.  32.\n",
            "  70.  47.  60.  60.  59.  26.  45.  40.  23.  49.  57.  38.  67.  46.\n",
            "  21.  48.  55.  22.  34.  50.  68.  18.  48.  40.  32.  24. 247.  27.\n",
            "  48.  20.  23.  49.  67.  26.  49.  21.  66.  54.  68.  66.  65.  19.\n",
            "  38.  19.  18. 319.  63. 249.  51.  50.  27.  38.  40.  39.  23.  31.\n",
            "  43.  40.  59.  38.  47.  39.  25.  31.  20.  29.  44.  32. 319.  35.\n",
            "  57.  32.  28.  32. 225.  28.  48.  32.  34.  34.  43.  39.  44.  38.\n",
            "  47.  27.  37.  30.  34.  30.  56.  29.  19.  31.  50.  36.  42.  33.\n",
            "  36.  32.  40.  28.  36.  36.  52.  30.  58.  27.  59.  35.  37.  32.\n",
            "  32.  29.  41.  30.  54.  28.  41.  14.  32.  32.  33.  38.  47.  32.\n",
            "  45.  32.  32.  30.]\n"
          ]
        }
      ]
    },
    {
      "cell_type": "code",
      "source": [
        "# mengganti Nilai Outlier Menggunakan Imputation (mean)\n",
        "\n",
        "mean = np.mean(sample)\n",
        "for i in sample_outliers:\n",
        "    c = np.where(sample==i, 14,sample)\n",
        "print(\"Sample: \", sample)\n",
        "print(\"New array: \",c)"
      ],
      "metadata": {
        "colab": {
          "base_uri": "https://localhost:8080/"
        },
        "id": "x-qnwfkkDEUR",
        "outputId": "a6cd918b-30ed-4d48-ff8d-266340dc57b6"
      },
      "execution_count": 24,
      "outputs": [
        {
          "output_type": "stream",
          "name": "stdout",
          "text": [
            "Sample:  0      19.0\n",
            "1      32.0\n",
            "2      20.0\n",
            "3      23.0\n",
            "4      31.0\n",
            "       ... \n",
            "195    32.0\n",
            "196    45.0\n",
            "197    32.0\n",
            "198    32.0\n",
            "199    30.0\n",
            "Name: Age, Length: 200, dtype: float64\n",
            "New array:  [ 19.  32.  20.  23.  31.  22.  35.  23.  64.  30.  67.  32.  58.  24.\n",
            "  37.  32.  35.  20.  52.  35.  35.  25.  32.  31.  54.  29.  45.  35.\n",
            "  40.  32.  60.  21.  53.  18.  49.  21.  42.  30.  14.  20.  65.  24.\n",
            "  48.  31.  49.  24.  50.  27.  29.  31.  49.  33.  31.  59.  50.  47.\n",
            "  51.  69.  27.  53.  70.  19.  67.  54. 363.  18.  43.  68.  19.  32.\n",
            "  70.  47.  60.  60.  59.  26.  45.  40.  23.  49.  57.  38.  67.  46.\n",
            "  21.  48.  55.  22.  34.  50.  68.  18.  48.  40.  32.  24. 247.  27.\n",
            "  48.  20.  23.  49.  67.  26.  49.  21.  66.  54.  68.  66.  65.  19.\n",
            "  38.  19.  18. 319.  63. 249.  51.  50.  27.  38.  40.  39.  23.  31.\n",
            "  43.  40.  59.  38.  47.  39.  25.  31.  20.  29.  44.  32. 319.  35.\n",
            "  57.  32.  28.  32. 225.  28.  48.  32.  34.  34.  43.  39.  44.  38.\n",
            "  47.  27.  37.  30.  34.  30.  56.  29.  19.  31.  50.  36.  42.  33.\n",
            "  36.  32.  40.  28.  36.  36.  52.  30.  58.  27.  59.  35.  37.  32.\n",
            "  32.  29.  41.  30.  54.  28.  41.  14.  32.  32.  33.  38.  47.  32.\n",
            "  45.  32.  32.  30.]\n"
          ]
        }
      ]
    },
    {
      "cell_type": "code",
      "source": [
        "#Menampilkan boxplot yang telah bebas dari outliers \n",
        "\n",
        "df_new.boxplot([\"Age\"],vert=False)\n",
        "plt.title(\"Tampilan Boxplot Setelah Bebas/ Tidak Ada Outlier\")\n",
        "plt.xlabel(\"Age\")"
      ],
      "metadata": {
        "colab": {
          "base_uri": "https://localhost:8080/",
          "height": 313
        },
        "id": "hi86e7XxDeJh",
        "outputId": "ac7ed1df-7dc5-4ad5-8c7f-4abd87216f55"
      },
      "execution_count": 27,
      "outputs": [
        {
          "output_type": "execute_result",
          "data": {
            "text/plain": [
              "Text(0.5, 0, 'Age')"
            ]
          },
          "metadata": {},
          "execution_count": 27
        },
        {
          "output_type": "display_data",
          "data": {
            "text/plain": [
              "<Figure size 432x288 with 1 Axes>"
            ],
            "image/png": "[encoded data removed]"
          },
          "metadata": {
            "needs_background": "light"
          }
        }
      ]
    },
    {
      "cell_type": "markdown",
      "source": [
        "## Correlation Analysis (bivariate)"
      ],
      "metadata": {
        "id": "V00jg0uQE_7n"
      }
    },
    {
      "cell_type": "code",
      "source": [
        "# Menemukan korelasi antara semua variabel numerik\n",
        "\n",
        "df.select_dtypes(['float64' , 'int64']).corr()"
      ],
      "metadata": {
        "colab": {
          "base_uri": "https://localhost:8080/",
          "height": 175
        },
        "id": "2LCadjHxFIhe",
        "outputId": "86608a6b-6672-41fd-88ba-965431a637a9"
      },
      "execution_count": 29,
      "outputs": [
        {
          "output_type": "execute_result",
          "data": {
            "text/plain": [
              "               CustomerID       Age    Income  SpendingScore\n",
              "CustomerID       1.000000  0.027758  0.977548       0.003186\n",
              "Age              0.027758  1.000000  0.027939      -0.148001\n",
              "Income           0.977548  0.027939  1.000000      -0.000776\n",
              "SpendingScore    0.003186 -0.148001 -0.000776       1.000000"
            ],
            "text/html": [
              "\n",
              "  <div id=\"df-391941b3-8c72-4c0f-9030-a88c87f600ac\">\n",
              "    <div class=\"colab-df-container\">\n",
              "      <div>\n",
              "<style scoped>\n",
              "    .dataframe tbody tr th:only-of-type {\n",
              "        vertical-align: middle;\n",
              "    }\n",
              "\n",
              "    .dataframe tbody tr th {\n",
              "        vertical-align: top;\n",
              "    }\n",
              "\n",
              "    .dataframe thead th {\n",
              "        text-align: right;\n",
              "    }\n",
              "</style>\n",
              "<table border=\"1\" class=\"dataframe\">\n",
              "  <thead>\n",
              "    <tr style=\"text-align: right;\">\n",
              "      <th></th>\n",
              "      <th>CustomerID</th>\n",
              "      <th>Age</th>\n",
              "      <th>Income</th>\n",
              "      <th>SpendingScore</th>\n",
              "    </tr>\n",
              "  </thead>\n",
              "  <tbody>\n",
              "    <tr>\n",
              "      <th>CustomerID</th>\n",
              "      <td>1.000000</td>\n",
              "      <td>0.027758</td>\n",
              "      <td>0.977548</td>\n",
              "      <td>0.003186</td>\n",
              "    </tr>\n",
              "    <tr>\n",
              "      <th>Age</th>\n",
              "      <td>0.027758</td>\n",
              "      <td>1.000000</td>\n",
              "      <td>0.027939</td>\n",
              "      <td>-0.148001</td>\n",
              "    </tr>\n",
              "    <tr>\n",
              "      <th>Income</th>\n",
              "      <td>0.977548</td>\n",
              "      <td>0.027939</td>\n",
              "      <td>1.000000</td>\n",
              "      <td>-0.000776</td>\n",
              "    </tr>\n",
              "    <tr>\n",
              "      <th>SpendingScore</th>\n",
              "      <td>0.003186</td>\n",
              "      <td>-0.148001</td>\n",
              "      <td>-0.000776</td>\n",
              "      <td>1.000000</td>\n",
              "    </tr>\n",
              "  </tbody>\n",
              "</table>\n",
              "</div>\n",
              "      <button class=\"colab-df-convert\" onclick=\"convertToInteractive('df-391941b3-8c72-4c0f-9030-a88c87f600ac')\"\n",
              "              title=\"Convert this dataframe to an interactive table.\"\n",
              "              style=\"display:none;\">\n",
              "        \n",
              "  <svg xmlns=\"http://www.w3.org/2000/svg\" height=\"24px\"viewBox=\"0 0 24 24\"\n",
              "       width=\"24px\">\n",
              "    <path d=\"M0 0h24v24H0V0z\" fill=\"none\"/>\n",
              "    <path d=\"M18.56 5.44l.94 2.06.94-2.06 2.06-.94-2.06-.94-.94-2.06-.94 2.06-2.06.94zm-11 1L8.5 8.5l.94-2.06 2.06-.94-2.06-.94L8.5 2.5l-.94 2.06-2.06.94zm10 10l.94 2.06.94-2.06 2.06-.94-2.06-.94-.94-2.06-.94 2.06-2.06.94z\"/><path d=\"M17.41 7.96l-1.37-1.37c-.4-.4-.92-.59-1.43-.59-.52 0-1.04.2-1.43.59L10.3 9.45l-7.72 7.72c-.78.78-.78 2.05 0 2.83L4 21.41c.39.39.9.59 1.41.59.51 0 1.02-.2 1.41-.59l7.78-7.78 2.81-2.81c.8-.78.8-2.07 0-2.86zM5.41 20L4 18.59l7.72-7.72 1.47 1.35L5.41 20z\"/>\n",
              "  </svg>\n",
              "      </button>\n",
              "      \n",
              "  <style>\n",
              "    .colab-df-container {\n",
              "      display:flex;\n",
              "      flex-wrap:wrap;\n",
              "      gap: 12px;\n",
              "    }\n",
              "\n",
              "    .colab-df-convert {\n",
              "      background-color: #E8F0FE;\n",
              "      border: none;\n",
              "      border-radius: 50%;\n",
              "      cursor: pointer;\n",
              "      display: none;\n",
              "      fill: #1967D2;\n",
              "      height: 32px;\n",
              "      padding: 0 0 0 0;\n",
              "      width: 32px;\n",
              "    }\n",
              "\n",
              "    .colab-df-convert:hover {\n",
              "      background-color: #E2EBFA;\n",
              "      box-shadow: 0px 1px 2px rgba(60, 64, 67, 0.3), 0px 1px 3px 1px rgba(60, 64, 67, 0.15);\n",
              "      fill: #174EA6;\n",
              "    }\n",
              "\n",
              "    [theme=dark] .colab-df-convert {\n",
              "      background-color: #3B4455;\n",
              "      fill: #D2E3FC;\n",
              "    }\n",
              "\n",
              "    [theme=dark] .colab-df-convert:hover {\n",
              "      background-color: #434B5C;\n",
              "      box-shadow: 0px 1px 3px 1px rgba(0, 0, 0, 0.15);\n",
              "      filter: drop-shadow(0px 1px 2px rgba(0, 0, 0, 0.3));\n",
              "      fill: #FFFFFF;\n",
              "    }\n",
              "  </style>\n",
              "\n",
              "      <script>\n",
              "        const buttonEl =\n",
              "          document.querySelector('#df-391941b3-8c72-4c0f-9030-a88c87f600ac button.colab-df-convert');\n",
              "        buttonEl.style.display =\n",
              "          google.colab.kernel.accessAllowed ? 'block' : 'none';\n",
              "\n",
              "        async function convertToInteractive(key) {\n",
              "          const element = document.querySelector('#df-391941b3-8c72-4c0f-9030-a88c87f600ac');\n",
              "          const dataTable =\n",
              "            await google.colab.kernel.invokeFunction('convertToInteractive',\n",
              "                                                     [key], {});\n",
              "          if (!dataTable) return;\n",
              "\n",
              "          const docLinkHtml = 'Like what you see? Visit the ' +\n",
              "            '<a target=\"_blank\" href=https://colab.research.google.com/notebooks/data_table.ipynb>data table notebook</a>'\n",
              "            + ' to learn more about interactive tables.';\n",
              "          element.innerHTML = '';\n",
              "          dataTable['output_type'] = 'display_data';\n",
              "          await google.colab.output.renderOutput(dataTable, element);\n",
              "          const docLink = document.createElement('div');\n",
              "          docLink.innerHTML = docLinkHtml;\n",
              "          element.appendChild(docLink);\n",
              "        }\n",
              "      </script>\n",
              "    </div>\n",
              "  </div>\n",
              "  "
            ]
          },
          "metadata": {},
          "execution_count": 29
        }
      ]
    },
    {
      "cell_type": "code",
      "source": [
        "# ini adalah tampilan korelasi menggunakan heatmap  semakin pekat warnannya maka korelasinya akan semakin kuat\n",
        "\n",
        "plt = plt.figure(figsize=(9,7)) \n",
        "sns.heatmap(df.select_dtypes(['float64' , 'int64']).corr(), annot=True) \n",
        "plt.show()"
      ],
      "metadata": {
        "colab": {
          "base_uri": "https://localhost:8080/",
          "height": 432
        },
        "id": "pO23TIAbFMz_",
        "outputId": "2c89893d-084f-4547-d247-9dcc6bd65530"
      },
      "execution_count": 30,
      "outputs": [
        {
          "output_type": "display_data",
          "data": {
            "text/plain": [
              "<Figure size 648x504 with 2 Axes>"
            ],
            "image/png": "[encoded data removed]"
          },
          "metadata": {
            "needs_background": "light"
          }
        }
      ]
    }
  ]
}